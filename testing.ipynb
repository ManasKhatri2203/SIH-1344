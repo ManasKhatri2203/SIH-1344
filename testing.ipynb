{
 "cells": [
  {
   "cell_type": "code",
   "execution_count": 2,
   "metadata": {},
   "outputs": [
    {
     "name": "stdout",
     "output_type": "stream",
     "text": [
      "WARNING:tensorflow:From c:\\Python311\\Lib\\site-packages\\keras\\src\\losses.py:2976: The name tf.losses.sparse_softmax_cross_entropy is deprecated. Please use tf.compat.v1.losses.sparse_softmax_cross_entropy instead.\n",
      "\n",
      "WARNING:tensorflow:From c:\\Python311\\Lib\\site-packages\\keras\\src\\backend.py:1398: The name tf.executing_eagerly_outside_functions is deprecated. Please use tf.compat.v1.executing_eagerly_outside_functions instead.\n",
      "\n",
      "WARNING:tensorflow:From c:\\Python311\\Lib\\site-packages\\keras\\src\\layers\\pooling\\max_pooling2d.py:161: The name tf.nn.max_pool is deprecated. Please use tf.nn.max_pool2d instead.\n",
      "\n"
     ]
    }
   ],
   "source": [
    "import pickle\n",
    "import tensorflow as tf\n",
    "from tensorflow import keras\n",
    "import numpy as np\n",
    "import cv2\n",
    "\n",
    "with open('trained_model2.pkl', 'rb') as model_file2:\n",
    "    loaded_model = pickle.load(model_file2)"
   ]
  },
  {
   "cell_type": "code",
   "execution_count": 11,
   "metadata": {},
   "outputs": [],
   "source": [
    "da=cv2.imread(\"prac.jpg\") & 0xFF\n",
    "im=cv2.cvtColor(da,cv2.COLOR_BGR2RGB)\n",
    "imag=cv2.resize(im, (28, 28))\n",
    "imgs=imag/ 255.0\n",
    "# reshaped_image = imgs.reshape((28, 28, 3))\n",
    "# cv2.imwrite('test.jpg',im)\n",
    "# img = tf.keras.preprocessing.image.load_img('prac.jpg', target_size=(28, 28))\n",
    "# img_array = tf.keras.preprocessing.image.img_to_array(img)\n",
    "# img_array = np.array([img_array]) \n",
    "# img_array = np.array([img_array]) "
   ]
  },
  {
   "cell_type": "code",
   "execution_count": 12,
   "metadata": {},
   "outputs": [
    {
     "name": "stdout",
     "output_type": "stream",
     "text": [
      "1/1 [==============================] - 0s 24ms/step\n",
      "[[2.2552322e-04 5.4276000e-10 3.2184982e-01 2.6610255e-06 6.7780840e-01\n",
      "  6.4427655e-07 1.1298450e-04]]\n"
     ]
    }
   ],
   "source": [
    "predictions = loaded_model.predict(img_array)\n",
    "print(predictions)"
   ]
  },
  {
   "cell_type": "code",
   "execution_count": 13,
   "metadata": {},
   "outputs": [
    {
     "name": "stdout",
     "output_type": "stream",
     "text": [
      "[4]\n"
     ]
    }
   ],
   "source": [
    "classes = ['Actinic keratoses and intraepithelial carcinomae',\n",
    "           ' basal cell carcinoma',\n",
    "           'benign keratosis-like lesions',\n",
    "           'dermatofibroma',\n",
    "           ' melanocytic nevi',\n",
    "           ' pyogenic granulomas and hemorrhage',\n",
    "             'melanoma'\n",
    "             ]\n",
    "\n",
    "class_id = np.argmax(predictions, axis = 1)\n",
    "print(class_id)"
   ]
  },
  {
   "cell_type": "code",
   "execution_count": 14,
   "metadata": {},
   "outputs": [
    {
     "data": {
      "text/plain": [
       "' melanocytic nevi'"
      ]
     },
     "execution_count": 14,
     "metadata": {},
     "output_type": "execute_result"
    }
   ],
   "source": [
    "classes[class_id.item()]"
   ]
  }
 ],
 "metadata": {
  "kernelspec": {
   "display_name": "Python 3",
   "language": "python",
   "name": "python3"
  },
  "language_info": {
   "codemirror_mode": {
    "name": "ipython",
    "version": 3
   },
   "file_extension": ".py",
   "mimetype": "text/x-python",
   "name": "python",
   "nbconvert_exporter": "python",
   "pygments_lexer": "ipython3",
   "version": "3.11.4"
  }
 },
 "nbformat": 4,
 "nbformat_minor": 2
}
