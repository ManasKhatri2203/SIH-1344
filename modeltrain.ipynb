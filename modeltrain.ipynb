{
 "cells": [
  {
   "cell_type": "code",
   "execution_count": 2,
   "metadata": {},
   "outputs": [],
   "source": [
    "import matplotlib.pyplot as plt\n",
    "import numpy as np\n",
    "import pandas as pd\n",
    "import os\n",
    "from glob import glob\n",
    "import seaborn as sns\n",
    "from PIL import Image"
   ]
  },
  {
   "cell_type": "code",
   "execution_count": 3,
   "metadata": {},
   "outputs": [
    {
     "name": "stdout",
     "output_type": "stream",
     "text": [
      "WARNING:tensorflow:From c:\\Python311\\Lib\\site-packages\\keras\\src\\losses.py:2976: The name tf.losses.sparse_softmax_cross_entropy is deprecated. Please use tf.compat.v1.losses.sparse_softmax_cross_entropy instead.\n",
      "\n"
     ]
    }
   ],
   "source": [
    "np.random.seed(42)\n",
    "from keras.utils import to_categorical # used for converting labels to one-hot-encoding\n",
    "from sklearn.model_selection import train_test_split\n",
    "from scipy import stats\n",
    "from sklearn.preprocessing import LabelEncoder\n",
    "import autokeras as ak"
   ]
  },
  {
   "cell_type": "code",
   "execution_count": 4,
   "metadata": {},
   "outputs": [],
   "source": [
    "skin_df=pd.read_csv(\"HAM10000_metadata.csv\")\n",
    "SIZE=32"
   ]
  },
  {
   "cell_type": "code",
   "execution_count": 5,
   "metadata": {},
   "outputs": [
    {
     "name": "stdout",
     "output_type": "stream",
     "text": [
      "['akiec', 'bcc', 'bkl', 'df', 'mel', 'nv', 'vasc']\n"
     ]
    }
   ],
   "source": [
    "le = LabelEncoder()\n",
    "le.fit(skin_df['dx'])\n",
    "LabelEncoder()\n",
    "print(list(le.classes_))"
   ]
  },
  {
   "cell_type": "code",
   "execution_count": 6,
   "metadata": {},
   "outputs": [
    {
     "name": "stdout",
     "output_type": "stream",
     "text": [
      "        lesion_id      image_id   dx    dx_type   age     sex  \\\n",
      "1617  HAM_0007180  ISIC_0033272  mel      histo  65.0    male   \n",
      "8128  HAM_0007195  ISIC_0031923   nv      histo  40.0  female   \n",
      "2168  HAM_0001835  ISIC_0026652  mel      histo  65.0    male   \n",
      "1090  HAM_0000465  ISIC_0030583  bkl  consensus  35.0  female   \n",
      "7754  HAM_0001720  ISIC_0034010   nv      histo  45.0    male   \n",
      "8071  HAM_0006333  ISIC_0024424   nv      histo  35.0    male   \n",
      "7423  HAM_0004548  ISIC_0032832   nv      histo  45.0  female   \n",
      "8984  HAM_0006526  ISIC_0026671   nv      histo  55.0    male   \n",
      "2310  HAM_0003102  ISIC_0032389  mel      histo  65.0    male   \n",
      "7256  HAM_0004260  ISIC_0025525   nv      histo  65.0    male   \n",
      "\n",
      "         localization  label  \n",
      "1617             face      4  \n",
      "8128  lower extremity      5  \n",
      "2168             back      4  \n",
      "1090            trunk      2  \n",
      "7754          abdomen      5  \n",
      "8071            trunk      5  \n",
      "7423  upper extremity      5  \n",
      "8984  lower extremity      5  \n",
      "2310             face      4  \n",
      "7256             back      5  \n"
     ]
    }
   ],
   "source": [
    "skin_df['label'] = le.transform(skin_df[\"dx\"]) \n",
    "print(skin_df.sample(10))"
   ]
  },
  {
   "cell_type": "code",
   "execution_count": 7,
   "metadata": {},
   "outputs": [
    {
     "data": {
      "text/plain": [
       "<Figure size 1500x1000 with 0 Axes>"
      ]
     },
     "metadata": {},
     "output_type": "display_data"
    }
   ],
   "source": [
    "# Data distribution visualization\n",
    "fig = plt.figure(figsize=(15,10))"
   ]
  },
  {
   "cell_type": "code",
   "execution_count": 8,
   "metadata": {},
   "outputs": [],
   "source": [
    "ax1 = fig.add_subplot(221)\n",
    "skin_df['dx'].value_counts().plot(kind='bar', ax=ax1)\n",
    "ax1.set_ylabel('Count')\n",
    "ax1.set_title('Cell Type');"
   ]
  },
  {
   "cell_type": "code",
   "execution_count": 9,
   "metadata": {},
   "outputs": [
    {
     "data": {
      "text/plain": [
       "Text(0.5, 1.0, 'Sex')"
      ]
     },
     "execution_count": 9,
     "metadata": {},
     "output_type": "execute_result"
    }
   ],
   "source": [
    "ax2 = fig.add_subplot(222)\n",
    "skin_df['sex'].value_counts().plot(kind='bar', ax=ax2)\n",
    "ax2.set_ylabel('Count', size=15)\n",
    "ax2.set_title('Sex')"
   ]
  },
  {
   "cell_type": "code",
   "execution_count": 10,
   "metadata": {},
   "outputs": [
    {
     "data": {
      "text/plain": [
       "Text(0.5, 1.0, 'Localization')"
      ]
     },
     "execution_count": 10,
     "metadata": {},
     "output_type": "execute_result"
    },
    {
     "data": {
      "image/png": "[encoded data removed]",
      "text/plain": [
       "<Figure size 640x480 with 1 Axes>"
      ]
     },
     "metadata": {},
     "output_type": "display_data"
    }
   ],
   "source": [
    "ax3 = fig.add_subplot(223)\n",
    "skin_df['localization'].value_counts().plot(kind='bar')\n",
    "ax3.set_ylabel('Count',size=12)\n",
    "ax3.set_title('Localization')"
   ]
  },
  {
   "cell_type": "code",
   "execution_count": 11,
   "metadata": {},
   "outputs": [
    {
     "name": "stderr",
     "output_type": "stream",
     "text": [
      "C:\\Users\\HP\\AppData\\Local\\Temp\\ipykernel_8368\\3829969692.py:3: UserWarning: \n",
      "\n",
      "`distplot` is a deprecated function and will be removed in seaborn v0.14.0.\n",
      "\n",
      "Please adapt your code to use either `displot` (a figure-level function with\n",
      "similar flexibility) or `histplot` (an axes-level function for histograms).\n",
      "\n",
      "For a guide to updating your code to use the new functions, please see\n",
      "https://gist.github.com/mwaskom/de44147ed2974457ad6372750bbe5751\n",
      "\n",
      "  sns.distplot(sample_age['age'], fit=stats.norm, color='red');\n"
     ]
    },
    {
     "data": {
      "text/plain": [
       "Text(0.5, 1.0, 'Age')"
      ]
     },
     "execution_count": 11,
     "metadata": {},
     "output_type": "execute_result"
    },
    {
     "data": {
      "image/png": "[encoded data removed]",
      "text/plain": [
       "<Figure size 640x480 with 1 Axes>"
      ]
     },
     "metadata": {},
     "output_type": "display_data"
    }
   ],
   "source": [
    "ax4 = fig.add_subplot(224)\n",
    "sample_age = skin_df[pd.notnull(skin_df['age'])]\n",
    "sns.distplot(sample_age['age'], fit=stats.norm, color='red');\n",
    "ax4.set_title('Age')"
   ]
  },
  {
   "cell_type": "code",
   "execution_count": 12,
   "metadata": {},
   "outputs": [
    {
     "data": {
      "text/plain": [
       "<Figure size 640x480 with 0 Axes>"
      ]
     },
     "metadata": {},
     "output_type": "display_data"
    }
   ],
   "source": [
    "plt.tight_layout()\n",
    "plt.show()"
   ]
  },
  {
   "cell_type": "code",
   "execution_count": 13,
   "metadata": {},
   "outputs": [
    {
     "name": "stdout",
     "output_type": "stream",
     "text": [
      "label\n",
      "5    6705\n",
      "4    1113\n",
      "2    1099\n",
      "1     514\n",
      "0     327\n",
      "6     142\n",
      "3     115\n",
      "Name: count, dtype: int64\n"
     ]
    }
   ],
   "source": [
    "# Distribution of data into various classes \n",
    "from sklearn.utils import resample\n",
    "print(skin_df['label'].value_counts())"
   ]
  },
  {
   "cell_type": "code",
   "execution_count": 14,
   "metadata": {},
   "outputs": [],
   "source": [
    "#Balancing data\n",
    "df_0 = skin_df[skin_df['label'] == 0]\n",
    "df_1 = skin_df[skin_df['label'] == 1]\n",
    "df_2 = skin_df[skin_df['label'] == 2]\n",
    "df_3 = skin_df[skin_df['label'] == 3]\n",
    "df_4 = skin_df[skin_df['label'] == 4]\n",
    "df_5 = skin_df[skin_df['label'] == 5]\n",
    "df_6 = skin_df[skin_df['label'] == 6]"
   ]
  },
  {
   "cell_type": "code",
   "execution_count": 15,
   "metadata": {},
   "outputs": [],
   "source": [
    "n_samples=500 \n",
    "df_0_balanced = resample(df_0, replace=True, n_samples=n_samples, random_state=42) \n",
    "df_1_balanced = resample(df_1, replace=True, n_samples=n_samples, random_state=42) \n",
    "df_2_balanced = resample(df_2, replace=True, n_samples=n_samples, random_state=42)\n",
    "df_3_balanced = resample(df_3, replace=True, n_samples=n_samples, random_state=42)\n",
    "df_4_balanced = resample(df_4, replace=True, n_samples=n_samples, random_state=42)\n",
    "df_5_balanced = resample(df_5, replace=True, n_samples=n_samples, random_state=42)\n",
    "df_6_balanced = resample(df_6, replace=True, n_samples=n_samples, random_state=42)"
   ]
  },
  {
   "cell_type": "code",
   "execution_count": 16,
   "metadata": {},
   "outputs": [],
   "source": [
    "skin_df_balanced = pd.concat([df_0_balanced, df_1_balanced, \n",
    "                              df_2_balanced, df_3_balanced, \n",
    "                              df_4_balanced, df_5_balanced, df_6_balanced])"
   ]
  },
  {
   "cell_type": "code",
   "execution_count": 17,
   "metadata": {},
   "outputs": [
    {
     "name": "stdout",
     "output_type": "stream",
     "text": [
      "label\n",
      "0    500\n",
      "1    500\n",
      "2    500\n",
      "3    500\n",
      "4    500\n",
      "5    500\n",
      "6    500\n",
      "Name: count, dtype: int64\n"
     ]
    }
   ],
   "source": [
    "#reading images from dataset\n",
    "print(skin_df_balanced['label'].value_counts())\n"
   ]
  },
  {
   "cell_type": "code",
   "execution_count": 18,
   "metadata": {},
   "outputs": [],
   "source": [
    "image_path = {os.path.splitext(os.path.basename(x))[0]: x\n",
    "              for x in glob(os.path.join('data/', '*', '*.jpg'))}"
   ]
  },
  {
   "cell_type": "code",
   "execution_count": 19,
   "metadata": {},
   "outputs": [],
   "source": [
    "#Defining the path and adding as a new column\n",
    "skin_df_balanced['path'] = skin_df['image_id'].map(image_path.get)"
   ]
  },
  {
   "cell_type": "code",
   "execution_count": 20,
   "metadata": {},
   "outputs": [],
   "source": [
    "#Using the path to read images.\n",
    "skin_df_balanced['image'] = skin_df_balanced['path'].map(lambda x: np.asarray(Image.open(x).resize((SIZE,SIZE))))"
   ]
  },
  {
   "cell_type": "code",
   "execution_count": 21,
   "metadata": {},
   "outputs": [],
   "source": [
    "n_samples = 5"
   ]
  },
  {
   "cell_type": "code",
   "execution_count": null,
   "metadata": {},
   "outputs": [],
   "source": [
    "fig, m_axs = plt.subplots(7, n_samples, figsize = (4*n_samples, 3*7))\n",
    "for n_axs, (type_name, type_rows) in zip(m_axs, \n",
    "                                         skin_df_balanced.sort_values(['dx']).groupby('dx')):\n",
    "    n_axs[0].set_title(type_name)\n",
    "    for c_ax, (_, c_row) in zip(n_axs, type_rows.sample(n_samples, random_state=1234).iterrows()):\n",
    "        c_ax.imshow(c_row['image'])\n",
    "        c_ax.axis('off')"
   ]
  },
  {
   "cell_type": "code",
   "execution_count": 23,
   "metadata": {},
   "outputs": [],
   "source": [
    "#Converting dataframe column of images into numpy array\n",
    "X = np.asarray(skin_df_balanced['image'].tolist())\n",
    "X = X/255. # Scaling values to 0-1.\n",
    "Y=skin_df_balanced['label'] #Assigning label values to Y\n",
    "Y_cat = to_categorical(Y, num_classes=7) #Converting to categorical "
   ]
  },
  {
   "cell_type": "code",
   "execution_count": 24,
   "metadata": {},
   "outputs": [],
   "source": [
    "x_train, x_test, y_train, y_test = train_test_split(X, Y_cat, test_size=0.20, random_state=42)"
   ]
  },
  {
   "cell_type": "code",
   "execution_count": 25,
   "metadata": {},
   "outputs": [
    {
     "name": "stdout",
     "output_type": "stream",
     "text": [
      "WARNING:tensorflow:From c:\\Python311\\Lib\\site-packages\\keras\\src\\backend.py:1398: The name tf.executing_eagerly_outside_functions is deprecated. Please use tf.compat.v1.executing_eagerly_outside_functions instead.\n",
      "\n",
      "WARNING:tensorflow:From c:\\Python311\\Lib\\site-packages\\keras\\src\\layers\\pooling\\max_pooling2d.py:161: The name tf.nn.max_pool is deprecated. Please use tf.nn.max_pool2d instead.\n",
      "\n",
      "WARNING:tensorflow:From c:\\Python311\\Lib\\site-packages\\keras\\src\\optimizers\\__init__.py:309: The name tf.train.Optimizer is deprecated. Please use tf.compat.v1.train.Optimizer instead.\n",
      "\n"
     ]
    },
    {
     "name": "stderr",
     "output_type": "stream",
     "text": [
      "WARNING:absl:Skipping variable loading for optimizer 'Adam', because it has 21 variables whereas the saved optimizer has 1 variables. \n"
     ]
    }
   ],
   "source": [
    "import pickle\n",
    "\n",
    "with open('trained_model.pkl', 'rb') as model_file:\n",
    "    loaded_model = pickle.load(model_file)"
   ]
  },
  {
   "cell_type": "code",
   "execution_count": 26,
   "metadata": {},
   "outputs": [
    {
     "name": "stdout",
     "output_type": "stream",
     "text": [
      "Epoch 1/50\n",
      "WARNING:tensorflow:From c:\\Python311\\Lib\\site-packages\\keras\\src\\utils\\tf_utils.py:492: The name tf.ragged.RaggedTensorValue is deprecated. Please use tf.compat.v1.ragged.RaggedTensorValue instead.\n",
      "\n"
     ]
    },
    {
     "name": "stderr",
     "output_type": "stream",
     "text": [
      "WARNING:tensorflow:From c:\\Python311\\Lib\\site-packages\\keras\\src\\utils\\tf_utils.py:492: The name tf.ragged.RaggedTensorValue is deprecated. Please use tf.compat.v1.ragged.RaggedTensorValue instead.\n",
      "\n"
     ]
    },
    {
     "name": "stdout",
     "output_type": "stream",
     "text": [
      "WARNING:tensorflow:From c:\\Python311\\Lib\\site-packages\\keras\\src\\engine\\base_layer_utils.py:384: The name tf.executing_eagerly_outside_functions is deprecated. Please use tf.compat.v1.executing_eagerly_outside_functions instead.\n",
      "\n"
     ]
    },
    {
     "name": "stderr",
     "output_type": "stream",
     "text": [
      "WARNING:tensorflow:From c:\\Python311\\Lib\\site-packages\\keras\\src\\engine\\base_layer_utils.py:384: The name tf.executing_eagerly_outside_functions is deprecated. Please use tf.compat.v1.executing_eagerly_outside_functions instead.\n",
      "\n"
     ]
    },
    {
     "name": "stdout",
     "output_type": "stream",
     "text": [
      "175/175 - 12s - loss: 1.9099 - acc: 0.1854 - val_loss: 1.8388 - val_acc: 0.2700 - 12s/epoch - 70ms/step\n",
      "Epoch 2/50\n",
      "175/175 - 9s - loss: 1.7078 - acc: 0.2882 - val_loss: 1.5846 - val_acc: 0.3657 - 9s/epoch - 49ms/step\n",
      "Epoch 3/50\n",
      "175/175 - 9s - loss: 1.5177 - acc: 0.3725 - val_loss: 1.5755 - val_acc: 0.3443 - 9s/epoch - 49ms/step\n",
      "Epoch 4/50\n",
      "175/175 - 8s - loss: 1.4335 - acc: 0.4232 - val_loss: 1.4565 - val_acc: 0.4286 - 8s/epoch - 47ms/step\n",
      "Epoch 5/50\n",
      "175/175 - 8s - loss: 1.3836 - acc: 0.4557 - val_loss: 1.3739 - val_acc: 0.4743 - 8s/epoch - 49ms/step\n",
      "Epoch 6/50\n",
      "175/175 - 8s - loss: 1.3194 - acc: 0.4829 - val_loss: 1.2995 - val_acc: 0.4700 - 8s/epoch - 47ms/step\n",
      "Epoch 7/50\n",
      "175/175 - 10s - loss: 1.2879 - acc: 0.4954 - val_loss: 1.2323 - val_acc: 0.5143 - 10s/epoch - 55ms/step\n",
      "Epoch 8/50\n",
      "175/175 - 8s - loss: 1.2583 - acc: 0.5061 - val_loss: 1.2506 - val_acc: 0.5071 - 8s/epoch - 48ms/step\n",
      "Epoch 9/50\n",
      "175/175 - 8s - loss: 1.2047 - acc: 0.5207 - val_loss: 1.2375 - val_acc: 0.5186 - 8s/epoch - 47ms/step\n",
      "Epoch 10/50\n",
      "175/175 - 8s - loss: 1.2019 - acc: 0.5314 - val_loss: 1.1864 - val_acc: 0.5629 - 8s/epoch - 47ms/step\n",
      "Epoch 11/50\n",
      "175/175 - 8s - loss: 1.1680 - acc: 0.5354 - val_loss: 1.1359 - val_acc: 0.5743 - 8s/epoch - 47ms/step\n",
      "Epoch 12/50\n",
      "175/175 - 9s - loss: 1.1406 - acc: 0.5575 - val_loss: 1.1331 - val_acc: 0.5729 - 9s/epoch - 51ms/step\n",
      "Epoch 13/50\n",
      "175/175 - 8s - loss: 1.1236 - acc: 0.5564 - val_loss: 1.1395 - val_acc: 0.5671 - 8s/epoch - 47ms/step\n",
      "Epoch 14/50\n",
      "175/175 - 8s - loss: 1.1063 - acc: 0.5689 - val_loss: 1.1640 - val_acc: 0.5414 - 8s/epoch - 48ms/step\n",
      "Epoch 15/50\n",
      "175/175 - 8s - loss: 1.0813 - acc: 0.5743 - val_loss: 1.2214 - val_acc: 0.5557 - 8s/epoch - 47ms/step\n",
      "Epoch 16/50\n",
      "175/175 - 8s - loss: 1.0460 - acc: 0.5889 - val_loss: 1.1160 - val_acc: 0.5900 - 8s/epoch - 47ms/step\n",
      "Epoch 17/50\n",
      "175/175 - 8s - loss: 1.0461 - acc: 0.5968 - val_loss: 1.0490 - val_acc: 0.5843 - 8s/epoch - 45ms/step\n",
      "Epoch 18/50\n",
      "175/175 - 7s - loss: 1.0310 - acc: 0.6029 - val_loss: 1.0119 - val_acc: 0.6114 - 7s/epoch - 41ms/step\n",
      "Epoch 19/50\n",
      "175/175 - 7s - loss: 1.0038 - acc: 0.6218 - val_loss: 1.0458 - val_acc: 0.6386 - 7s/epoch - 42ms/step\n",
      "Epoch 20/50\n",
      "175/175 - 7s - loss: 0.9592 - acc: 0.6264 - val_loss: 0.9811 - val_acc: 0.6357 - 7s/epoch - 41ms/step\n",
      "Epoch 21/50\n",
      "175/175 - 7s - loss: 0.9916 - acc: 0.6207 - val_loss: 0.9984 - val_acc: 0.6214 - 7s/epoch - 41ms/step\n",
      "Epoch 22/50\n",
      "175/175 - 7s - loss: 0.9589 - acc: 0.6368 - val_loss: 0.9926 - val_acc: 0.6443 - 7s/epoch - 41ms/step\n",
      "Epoch 23/50\n",
      "175/175 - 7s - loss: 0.9390 - acc: 0.6314 - val_loss: 1.0215 - val_acc: 0.6000 - 7s/epoch - 41ms/step\n",
      "Epoch 24/50\n",
      "175/175 - 7s - loss: 0.9055 - acc: 0.6550 - val_loss: 1.0009 - val_acc: 0.6286 - 7s/epoch - 41ms/step\n",
      "Epoch 25/50\n",
      "175/175 - 7s - loss: 0.9153 - acc: 0.6550 - val_loss: 0.9722 - val_acc: 0.6543 - 7s/epoch - 41ms/step\n",
      "Epoch 26/50\n",
      "175/175 - 7s - loss: 0.8748 - acc: 0.6689 - val_loss: 0.9365 - val_acc: 0.6729 - 7s/epoch - 41ms/step\n",
      "Epoch 27/50\n",
      "175/175 - 7s - loss: 0.8555 - acc: 0.6704 - val_loss: 0.9004 - val_acc: 0.6871 - 7s/epoch - 40ms/step\n",
      "Epoch 28/50\n",
      "175/175 - 7s - loss: 0.8614 - acc: 0.6714 - val_loss: 0.9454 - val_acc: 0.6586 - 7s/epoch - 41ms/step\n",
      "Epoch 29/50\n",
      "175/175 - 7s - loss: 0.8498 - acc: 0.6718 - val_loss: 0.9386 - val_acc: 0.6657 - 7s/epoch - 41ms/step\n",
      "Epoch 30/50\n",
      "175/175 - 7s - loss: 0.8756 - acc: 0.6686 - val_loss: 0.9028 - val_acc: 0.6914 - 7s/epoch - 41ms/step\n",
      "Epoch 31/50\n",
      "175/175 - 7s - loss: 0.8263 - acc: 0.6796 - val_loss: 0.8942 - val_acc: 0.6971 - 7s/epoch - 42ms/step\n",
      "Epoch 32/50\n",
      "175/175 - 7s - loss: 0.8146 - acc: 0.6950 - val_loss: 0.8559 - val_acc: 0.7000 - 7s/epoch - 41ms/step\n",
      "Epoch 33/50\n",
      "175/175 - 7s - loss: 0.8019 - acc: 0.6861 - val_loss: 0.9711 - val_acc: 0.6757 - 7s/epoch - 41ms/step\n",
      "Epoch 34/50\n",
      "175/175 - 7s - loss: 0.7725 - acc: 0.7125 - val_loss: 0.8334 - val_acc: 0.7214 - 7s/epoch - 41ms/step\n",
      "Epoch 35/50\n",
      "175/175 - 7s - loss: 0.7791 - acc: 0.7029 - val_loss: 0.8602 - val_acc: 0.7114 - 7s/epoch - 41ms/step\n",
      "Epoch 36/50\n",
      "175/175 - 7s - loss: 0.7689 - acc: 0.7136 - val_loss: 0.8154 - val_acc: 0.7114 - 7s/epoch - 41ms/step\n",
      "Epoch 37/50\n",
      "175/175 - 7s - loss: 0.7769 - acc: 0.6982 - val_loss: 0.8431 - val_acc: 0.6957 - 7s/epoch - 41ms/step\n",
      "Epoch 38/50\n",
      "175/175 - 7s - loss: 0.7443 - acc: 0.7304 - val_loss: 0.7942 - val_acc: 0.7229 - 7s/epoch - 41ms/step\n",
      "Epoch 39/50\n",
      "175/175 - 7s - loss: 0.7086 - acc: 0.7232 - val_loss: 0.8224 - val_acc: 0.7086 - 7s/epoch - 41ms/step\n",
      "Epoch 40/50\n",
      "175/175 - 7s - loss: 0.7110 - acc: 0.7243 - val_loss: 0.7920 - val_acc: 0.7300 - 7s/epoch - 40ms/step\n",
      "Epoch 41/50\n",
      "175/175 - 7s - loss: 0.7165 - acc: 0.7321 - val_loss: 0.8735 - val_acc: 0.7086 - 7s/epoch - 40ms/step\n",
      "Epoch 42/50\n",
      "175/175 - 7s - loss: 0.7085 - acc: 0.7386 - val_loss: 0.7713 - val_acc: 0.7186 - 7s/epoch - 41ms/step\n",
      "Epoch 43/50\n",
      "175/175 - 7s - loss: 0.6838 - acc: 0.7436 - val_loss: 0.7733 - val_acc: 0.7271 - 7s/epoch - 41ms/step\n",
      "Epoch 44/50\n",
      "175/175 - 7s - loss: 0.6712 - acc: 0.7493 - val_loss: 0.9357 - val_acc: 0.6686 - 7s/epoch - 41ms/step\n",
      "Epoch 45/50\n",
      "175/175 - 8s - loss: 0.7021 - acc: 0.7296 - val_loss: 0.7905 - val_acc: 0.7100 - 8s/epoch - 44ms/step\n",
      "Epoch 46/50\n",
      "175/175 - 7s - loss: 0.6803 - acc: 0.7521 - val_loss: 0.8180 - val_acc: 0.7071 - 7s/epoch - 41ms/step\n",
      "Epoch 47/50\n",
      "175/175 - 8s - loss: 0.6635 - acc: 0.7521 - val_loss: 0.7992 - val_acc: 0.7257 - 8s/epoch - 43ms/step\n",
      "Epoch 48/50\n",
      "175/175 - 7s - loss: 0.6616 - acc: 0.7504 - val_loss: 0.7846 - val_acc: 0.7314 - 7s/epoch - 41ms/step\n",
      "Epoch 49/50\n",
      "175/175 - 7s - loss: 0.6093 - acc: 0.7750 - val_loss: 0.7525 - val_acc: 0.7486 - 7s/epoch - 42ms/step\n",
      "Epoch 50/50\n",
      "175/175 - 7s - loss: 0.6499 - acc: 0.7593 - val_loss: 0.7320 - val_acc: 0.7414 - 7s/epoch - 42ms/step\n"
     ]
    }
   ],
   "source": [
    "batch_size = 16 \n",
    "epochs = 50\n",
    "history = loaded_model.fit(\n",
    "    x_train, y_train,\n",
    "    epochs=epochs,\n",
    "    batch_size = batch_size,\n",
    "    validation_data=(x_test, y_test),\n",
    "    verbose=2)"
   ]
  },
  {
   "cell_type": "code",
   "execution_count": 27,
   "metadata": {},
   "outputs": [
    {
     "name": "stdout",
     "output_type": "stream",
     "text": [
      "22/22 [==============================] - 1s 23ms/step - loss: 0.7320 - acc: 0.7414\n",
      "Test accuracy: 0.741428554058075\n"
     ]
    }
   ],
   "source": [
    "score = loaded_model.evaluate(x_test, y_test)\n",
    "print('Test accuracy:', score[1])"
   ]
  }
 ],
 "metadata": {
  "kernelspec": {
   "display_name": "Python 3",
   "language": "python",
   "name": "python3"
  },
  "language_info": {
   "codemirror_mode": {
    "name": "ipython",
    "version": 3
   },
   "file_extension": ".py",
   "mimetype": "text/x-python",
   "name": "python",
   "nbconvert_exporter": "python",
   "pygments_lexer": "ipython3",
   "version": "3.11.4"
  }
 },
 "nbformat": 4,
 "nbformat_minor": 2
}
